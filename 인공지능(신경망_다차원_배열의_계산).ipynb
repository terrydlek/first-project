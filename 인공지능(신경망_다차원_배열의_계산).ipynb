{
  "nbformat": 4,
  "nbformat_minor": 0,
  "metadata": {
    "colab": {
      "provenance": [],
      "authorship_tag": "ABX9TyOks5r6vWDDH6/1o48EUoyd",
      "include_colab_link": true
    },
    "kernelspec": {
      "name": "python3",
      "display_name": "Python 3"
    },
    "language_info": {
      "name": "python"
    }
  },
  "cells": [
    {
      "cell_type": "markdown",
      "metadata": {
        "id": "view-in-github",
        "colab_type": "text"
      },
      "source": [
        "<a href=\"https://colab.research.google.com/github/terrydlek/first-project/blob/master/%EC%9D%B8%EA%B3%B5%EC%A7%80%EB%8A%A5(%EC%8B%A0%EA%B2%BD%EB%A7%9D_%EB%8B%A4%EC%B0%A8%EC%9B%90_%EB%B0%B0%EC%97%B4%EC%9D%98_%EA%B3%84%EC%82%B0).ipynb\" target=\"_parent\"><img src=\"https://colab.research.google.com/assets/colab-badge.svg\" alt=\"Open In Colab\"/></a>"
      ]
    },
    {
      "cell_type": "code",
      "execution_count": 19,
      "metadata": {
        "colab": {
          "base_uri": "https://localhost:8080/"
        },
        "id": "_LsYu4dGaYM7",
        "outputId": "292c1ab1-3c37-45a6-8637-182120e04080"
      },
      "outputs": [
        {
          "output_type": "stream",
          "name": "stdout",
          "text": [
            "[1 2 3 4]\n",
            "1\n",
            "(4,)\n",
            "4\n",
            "[[1 2]\n",
            " [3 4]\n",
            " [5 6]]\n",
            "2\n",
            "(3, 2)\n"
          ]
        }
      ],
      "source": [
        "import numpy as np\n",
        "A = np.array([1, 2, 3, 4])\n",
        "print(A)\n",
        "print(np.ndim(A)) #배열의 차원 수\n",
        "print(A.shape) #배열의 형상(튜플로 변환 주의!)\n",
        "print(A.shape[0])\n",
        "\n",
        "B = np.array([[1, 2], [3, 4], [5, 6]])\n",
        "print(B)\n",
        "print(np.ndim(B))\n",
        "print(B.shape)"
      ]
    },
    {
      "cell_type": "code",
      "source": [
        "#행렬의 내적\n",
        "A = np.array([[1, 2], [3, 4]])\n",
        "print(A.shape)\n",
        "B =  np.array([[5, 6], [7, 8]])\n",
        "print(B.shape)\n",
        "print(np.dot(A,B)) # 두 행렬의 내적 계산"
      ],
      "metadata": {
        "colab": {
          "base_uri": "https://localhost:8080/"
        },
        "id": "eJEK0EoFa2GS",
        "outputId": "9592fe37-0cc3-4903-a7db-f3ae7338195c"
      },
      "execution_count": 24,
      "outputs": [
        {
          "output_type": "stream",
          "name": "stdout",
          "text": [
            "(2, 2)\n",
            "(2, 2)\n",
            "[[19 22]\n",
            " [43 50]]\n"
          ]
        }
      ]
    },
    {
      "cell_type": "code",
      "source": [
        "import numpy as np\n",
        "\n",
        "A = np.array([[1, 2, 3], [4, 5, 6]])\n",
        "print(A.shape)\n",
        "\n",
        "B = np.array([[1, 2], [3, 4], [5, 6]])\n",
        "print(B.shape)\n",
        "\n",
        "print(np.dot(A, B))"
      ],
      "metadata": {
        "colab": {
          "base_uri": "https://localhost:8080/"
        },
        "id": "T95rVxfxh-cf",
        "outputId": "2ac085e7-78a0-4f97-b64c-5b11eef6adc4"
      },
      "execution_count": 27,
      "outputs": [
        {
          "output_type": "stream",
          "name": "stdout",
          "text": [
            "(2, 3)\n",
            "(3, 2)\n",
            "[[22 28]\n",
            " [49 64]]\n"
          ]
        }
      ]
    },
    {
      "cell_type": "code",
      "source": [
        "import numpy as np\n",
        "\n",
        "A = np.array([[1,2],[3,4],[5,6]])\n",
        "print(A.shape)\n",
        "\n",
        "B = np.array([7, 8])\n",
        "print(B.shape)\n",
        "\n",
        "print(np.dot(A, B))"
      ],
      "metadata": {
        "colab": {
          "base_uri": "https://localhost:8080/"
        },
        "id": "s_KXr66kimu3",
        "outputId": "a033d46c-b576-4397-d12a-01abcd7f04d6"
      },
      "execution_count": 28,
      "outputs": [
        {
          "output_type": "stream",
          "name": "stdout",
          "text": [
            "(3, 2)\n",
            "(2,)\n",
            "[23 53 83]\n"
          ]
        }
      ]
    },
    {
      "cell_type": "code",
      "source": [
        "import numpy as np\n",
        "\n",
        "X = np.array([1, 2])\n",
        "print(X.shape)\n",
        "W = np.array([[1,3,5], [2,4,6]])\n",
        "print(W)\n",
        "print(W.shape)\n",
        "Y = np.dot(X,W)\n",
        "print(Y)"
      ],
      "metadata": {
        "colab": {
          "base_uri": "https://localhost:8080/"
        },
        "id": "-NmUZJImkRC8",
        "outputId": "c0d15e71-74e4-491c-b64b-3f099bb3d82e"
      },
      "execution_count": 30,
      "outputs": [
        {
          "output_type": "stream",
          "name": "stdout",
          "text": [
            "(2,)\n",
            "[[1 3 5]\n",
            " [2 4 6]]\n",
            "(2, 3)\n",
            "[ 5 11 17]\n"
          ]
        }
      ]
    },
    {
      "cell_type": "code",
      "source": [
        "#3층 신경망: 입력층(0층)은 2개, 첫 번재 츤닉층(1층)은 3개, 두 번째 은닉층(2층)은 2개, 출력층(3층)은 2개의 뉴런으로 구성\n",
        "#입력층에서 1층으로의 신호 전달\n",
        "import numpy as np\n",
        "\n",
        "X = np.array([1.0,0.5])\n",
        "W1 = np.array([[0.1,0.3,0.5], [0.2,0.4,0.6]])\n",
        "B1 = np.array([0.1,0.2,0.3])\n",
        "\n",
        "print(W1.shape)\n",
        "print(X.shape)\n",
        "print(B1.shape)\n",
        "A1 = np.dot(X, W1) + B1\n",
        "print(A1)\n",
        "\n",
        "def sigmoid(x):\n",
        "  return 1 / (1 + np.exp(-x))\n",
        "\n",
        "Z1 = sigmoid(A1)\n",
        "print(Z1)\n",
        "print(\"--------------------------------------\")\n",
        "#1층에서 2층으로의 신호 전달\n",
        "#1층의 출력 Z1이 2층의 입력이 된다는 점을 제외하면 위의 구현과 같음\n",
        "W2 = np.array([[0.1, 0.4], [0.2, 0.5], [0.3, 0.6]])\n",
        "B2 = np.array([0.1, 0.2])\n",
        "\n",
        "print(Z1.shape)\n",
        "print(W2.shape)\n",
        "print(B2.shape)\n",
        "\n",
        "A2 = np.dot(Z1,W2) + B2\n",
        "Z2 = sigmoid(A2)\n",
        "\n",
        "print(Z2)\n",
        "print(\"--------------------------------------\")\n",
        "#2층에서 출력층으로의 신호 전달\n",
        "#출력증의 구현도 그동안의 구현과 거의 같으나 활성화 함수만 지금까지의 은닉층과 다름\n",
        "def identity_function(x): #항등함수\n",
        "  return x\n",
        "\n",
        "W3 = np.array([[0.1,0.3], [0.2,0.4]])\n",
        "B3 = np.array([0.1,0.2])\n",
        "\n",
        "A3 = np.dot(Z2,W3) + B3\n",
        "Y = identity_function(A3)\n",
        "\n",
        "print(Y)"
      ],
      "metadata": {
        "colab": {
          "base_uri": "https://localhost:8080/"
        },
        "id": "RI7GSVYok3cq",
        "outputId": "8afd16ab-96f8-4950-b753-9756d6634639"
      },
      "execution_count": 36,
      "outputs": [
        {
          "output_type": "stream",
          "name": "stdout",
          "text": [
            "(2, 3)\n",
            "(2,)\n",
            "(3,)\n",
            "[0.3 0.7 1.1]\n",
            "[0.57444252 0.66818777 0.75026011]\n",
            "--------------------------------------\n",
            "(3,)\n",
            "(3, 2)\n",
            "(2,)\n",
            "[0.62624937 0.7710107 ]\n",
            "--------------------------------------\n",
            "[0.31682708 0.69627909]\n"
          ]
        }
      ]
    },
    {
      "cell_type": "code",
      "source": [
        "import numpy as np\n",
        "\n",
        "def init_network(): #가중치와 편향을 초기화, 이들을 딕셔너리 변수인 network에 저장. 이 딕셔너리 변수 network에는 각 층에 필요한 매개변수(가중치와 편향)를 저장\n",
        "  network = {}\n",
        "  network['W1'] = np.array([[0.1,0.3,0.5], [0.2,0.4,0.6]])\n",
        "  network[\"b1\"] = np.array([0.1,0.2,0.3])\n",
        "  network[\"W2\"] = np.array([[0.1,0.4], [0.2,0.5], [0.3,0.6]])\n",
        "  network[\"b2\"] = np.array([0.1,0.2])\n",
        "  network[\"W3\"] = np.array([[0.1,0.3], [0.2,0.4]])\n",
        "  network[\"b3\"] = np.array([0.1,0.2])\n",
        "  return network\n",
        "\n",
        "def forward(network,x): #입력 신호를 출력으로 변환하는 처리 과정을 모두 구현\n",
        "  W1,W2,W3 = network[\"W1\"], network[\"W2\"], network[\"W3\"]\n",
        "  b1,b2,b3 = network[\"b1\"], network[\"b2\"], network[\"b3\"]\n",
        "\n",
        "  a1 = np.dot(x, W1) + b1\n",
        "  z1 = sigmoid(a1)\n",
        "  a2 = np.dot(z1,W2) + b2\n",
        "  z2 = sigmoid(a2)\n",
        "  a3 = np.dot(z2, W3) + b3\n",
        "  y = identity_function(a3)\n",
        "  return y\n",
        "\n",
        "network = init_network()\n",
        "x = np.array([1.0, 0.5])\n",
        "y = forward(network, x)\n",
        "print(y)"
      ],
      "metadata": {
        "colab": {
          "base_uri": "https://localhost:8080/"
        },
        "id": "9csAd3NWnmm5",
        "outputId": "e8f3ce13-d023-47c7-c77d-18f0d63320c7"
      },
      "execution_count": 37,
      "outputs": [
        {
          "output_type": "stream",
          "name": "stdout",
          "text": [
            "[0.31682708 0.69627909]\n"
          ]
        }
      ]
    },
    {
      "cell_type": "code",
      "source": [],
      "metadata": {
        "id": "1UgWwEPUrw2z"
      },
      "execution_count": null,
      "outputs": []
    }
  ]
}