{
  "nbformat": 4,
  "nbformat_minor": 0,
  "metadata": {
    "colab": {
      "provenance": [],
      "authorship_tag": "ABX9TyNx4KW9GyIbgNxH/sTiZJJt",
      "include_colab_link": true
    },
    "kernelspec": {
      "name": "python3",
      "display_name": "Python 3"
    },
    "language_info": {
      "name": "python"
    }
  },
  "cells": [
    {
      "cell_type": "markdown",
      "metadata": {
        "id": "view-in-github",
        "colab_type": "text"
      },
      "source": [
        "<a href=\"https://colab.research.google.com/github/terrydlek/first-project/blob/master/%EB%91%90_%EB%B0%B0%EC%97%B4%EC%9D%98_%EC%9B%90%EC%86%8C_%EA%B5%90%EC%B2%B4.ipynb\" target=\"_parent\"><img src=\"https://colab.research.google.com/assets/colab-badge.svg\" alt=\"Open In Colab\"/></a>"
      ]
    },
    {
      "cell_type": "code",
      "execution_count": 28,
      "metadata": {
        "colab": {
          "base_uri": "https://localhost:8080/"
        },
        "id": "12EhaF6akq3s",
        "outputId": "09f543f9-1ced-4ee7-dc16-4f14a94e2701"
      },
      "outputs": [
        {
          "output_type": "stream",
          "name": "stdout",
          "text": [
            "5 3\n",
            "1 2 5 4 3\n",
            "5 5 6 6 5\n",
            "26\n"
          ]
        }
      ],
      "source": [
        "n, k = map(int, input().split(\" \")) # n과 k를 입력받기\n",
        "a = list(map(int, input().split())) # 배열 a의 모든 원소 입력받기\n",
        "b = list(map(int, input().split())) # 배열 b의 모든 원소 입력받기\n",
        "\n",
        "for i in range(k):\n",
        "  if min(a) < max(b):\n",
        "    a.remove(min(a))\n",
        "    a.append(max(b))\n",
        "    b.remove(max(b))\n",
        "  else:\n",
        "    break\n",
        "print(sum(a))\n",
        "\n",
        "#다른 예시\n",
        "\"\"\"n , k = map(int, input().split(\" \"))\n",
        "a = list(map(int, input().split(\" \")))\n",
        "b = list(map(int, input().split(\" \")))\n",
        "a.sort()\n",
        "b.sort(reverse = True)\n",
        "for i in range(k):\n",
        "  if a[i] < b[i]:\n",
        "    a[i], b[i] = b[i], a[i]\n",
        "  else:\n",
        "    break\n",
        "print(sum(a))\"\"\""
      ]
    }
  ]
}