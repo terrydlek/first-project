{
  "nbformat": 4,
  "nbformat_minor": 0,
  "metadata": {
    "colab": {
      "name": "위에서 아래로.ipynb",
      "provenance": [],
      "authorship_tag": "ABX9TyPqhyB46WwaTCTqcQxv0yRc",
      "include_colab_link": true
    },
    "kernelspec": {
      "name": "python3",
      "display_name": "Python 3"
    },
    "language_info": {
      "name": "python"
    }
  },
  "cells": [
    {
      "cell_type": "markdown",
      "metadata": {
        "id": "view-in-github",
        "colab_type": "text"
      },
      "source": [
        "<a href=\"https://colab.research.google.com/github/terrydlek/first-project/blob/master/%EC%9C%84%EC%97%90%EC%84%9C_%EC%95%84%EB%9E%98%EB%A1%9C.ipynb\" target=\"_parent\"><img src=\"https://colab.research.google.com/assets/colab-badge.svg\" alt=\"Open In Colab\"/></a>"
      ]
    },
    {
      "cell_type": "code",
      "execution_count": 9,
      "metadata": {
        "colab": {
          "base_uri": "https://localhost:8080/"
        },
        "id": "mizQAR2H0OF5",
        "outputId": "f4f6581f-b74b-442e-8526-793e5b5292e3"
      },
      "outputs": [
        {
          "output_type": "stream",
          "name": "stdout",
          "text": [
            "3\n",
            "15\n",
            "27\n",
            "12\n",
            "27 15 12 "
          ]
        }
      ],
      "source": [
        "#내가 직접 코딩한 것\n",
        "\"\"\"n = int(input())\n",
        "array = []\n",
        "for i in range(n):\n",
        "  array.append(int(input()))\n",
        "\n",
        "array.sort()\n",
        "print(array[::-1], end=\" \")\"\"\"\n",
        "#해설\n",
        "#N을 입력받기\n",
        "n = int(input())\n",
        "#N개의 정수를 입력받아 리스트에 저장\n",
        "array = []\n",
        "for i in range(n):\n",
        "  array.append(int(input()))\n",
        "#파이썬 기본 정렬 라이브러리를 이용하여 정렬 수행\n",
        "array = sorted(array, reverse = True)\n",
        "#정렬이 수행된 결과를 출력\n",
        "for i in array:\n",
        "  print(i, end = \" \")"
      ]
    },
    {
      "cell_type": "markdown",
      "source": [
        ""
      ],
      "metadata": {
        "id": "8ZX6gCgD2QuN"
      }
    },
    {
      "cell_type": "code",
      "source": [
        ""
      ],
      "metadata": {
        "id": "PQ9NJsry0kBa"
      },
      "execution_count": null,
      "outputs": []
    }
  ]
}