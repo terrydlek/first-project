{
  "nbformat": 4,
  "nbformat_minor": 0,
  "metadata": {
    "colab": {
      "name": "퀵정렬.ipynb",
      "provenance": [],
      "authorship_tag": "ABX9TyNNl44QP20RSDFE6wQRxveH",
      "include_colab_link": true
    },
    "kernelspec": {
      "name": "python3",
      "display_name": "Python 3"
    },
    "language_info": {
      "name": "python"
    }
  },
  "cells": [
    {
      "cell_type": "markdown",
      "metadata": {
        "id": "view-in-github",
        "colab_type": "text"
      },
      "source": [
        "<a href=\"https://colab.research.google.com/github/terrydlek/first-project/blob/master/%ED%80%B5%EC%A0%95%EB%A0%AC.ipynb\" target=\"_parent\"><img src=\"https://colab.research.google.com/assets/colab-badge.svg\" alt=\"Open In Colab\"/></a>"
      ]
    },
    {
      "cell_type": "code",
      "execution_count": 10,
      "metadata": {
        "colab": {
          "base_uri": "https://localhost:8080/"
        },
        "id": "cK3vgw4UXJVe",
        "outputId": "6590e511-b971-4c79-8e5c-8a1c0fb218cb"
      },
      "outputs": [
        {
          "output_type": "stream",
          "name": "stdout",
          "text": [
            "[0, 1, 2, 3, 4, 5, 6, 7, 8, 9]\n"
          ]
        }
      ],
      "source": [
        "\"\"\"li = [7,5,9,0,3,1,6,2,4,8]\n",
        "def quick_sort(array,start,end):\n",
        "  if start >= end: #원소가 1개인 경우 종료\n",
        "    return\n",
        "  pivot = start #피벗은 첫 번째 원소\n",
        "  left = start + 1\n",
        "  right = end\n",
        "  while left <= right:\n",
        "    #피벗보다 큰 데이터를 찾을 때까지 반복\n",
        "    while left <= end and array[left] <= array[pivot]:\n",
        "      left += 1\n",
        "    #피벗보다 작은 데이터를 찾을 때까지 반복\n",
        "    while right > start and array[right] >= array[pivot]:\n",
        "      right -= 1\n",
        "    if left > right: #엇갈렸다면 작은 데이터와 피벗을 교체\n",
        "      array[right], array[pivot] = array[pivot], array[right]\n",
        "    else: #엇갈리지 않았다면 작은 데이터와 큰 데이터를 교체\n",
        "      array[left], array[right] = array[right], array[left]\n",
        "  #분할 이후 왼쪽 부분과 오른쪽 부분에서 각각 정렬 수행\n",
        "  quick_sort(li, start, right - 1)\n",
        "  quick_sort(li, right + 1, end)\n",
        "quick_sort(li, 0, len(li) - 1)\n",
        "print(li)\"\"\"\n",
        "#파이썬의 장점을 살린 퀵 정렬 소스코드\n",
        "array = [5,7,9,0,3,1,6,2,4,8]\n",
        "def quick_sort(array):\n",
        "  if len(array) <= 1:\n",
        "    return array\n",
        "  pivot = array[0]\n",
        "  tail = array[1:]\n",
        "\n",
        "  left_side = [x for x in tail if x <= pivot]\n",
        "  right_side = [x for x in tail if x > pivot]\n",
        "  return quick_sort(left_side) + [pivot] + quick_sort(right_side)\n",
        "\n",
        "print(quick_sort(array))"
      ]
    },
    {
      "cell_type": "code",
      "source": [
        ""
      ],
      "metadata": {
        "id": "RCcp7XEcXMJP"
      },
      "execution_count": null,
      "outputs": []
    }
  ]
}