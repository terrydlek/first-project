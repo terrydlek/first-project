{
  "nbformat": 4,
  "nbformat_minor": 0,
  "metadata": {
    "colab": {
      "provenance": [],
      "authorship_tag": "ABX9TyMDTYLIOSNyl3ZkKAxU71Yu",
      "include_colab_link": true
    },
    "kernelspec": {
      "name": "python3",
      "display_name": "Python 3"
    },
    "language_info": {
      "name": "python"
    }
  },
  "cells": [
    {
      "cell_type": "markdown",
      "metadata": {
        "id": "view-in-github",
        "colab_type": "text"
      },
      "source": [
        "<a href=\"https://colab.research.google.com/github/terrydlek/first-project/blob/master/%EC%9D%B8%EA%B3%B5%EC%A7%80%EB%8A%A5(numpy).ipynb\" target=\"_parent\"><img src=\"https://colab.research.google.com/assets/colab-badge.svg\" alt=\"Open In Colab\"/></a>"
      ]
    },
    {
      "cell_type": "code",
      "execution_count": 8,
      "metadata": {
        "colab": {
          "base_uri": "https://localhost:8080/"
        },
        "id": "gGDB4Mhgj9Vn",
        "outputId": "3b99e141-ce0f-46dd-e371-2ae958de2713"
      },
      "outputs": [
        {
          "output_type": "stream",
          "name": "stdout",
          "text": [
            "[3. 6. 9.]\n",
            "[-1. -2. -3.]\n",
            "[ 2.  8. 18.]\n",
            "[0.5 0.5 0.5]\n",
            "[0.5 1.  1.5]\n"
          ]
        }
      ],
      "source": [
        "import numpy as np\n",
        "x = np.array([1.0, 2.0, 3.0])\n",
        "y = np.array([2.0, 4.0, 6.0])\n",
        "print(x + y)\n",
        "print(x - y)\n",
        "print(x * y)\n",
        "print(x / y)\n",
        "print(x / 2.0)"
      ]
    },
    {
      "cell_type": "code",
      "source": [
        "A = np.array([[1,2], [3,4]])\n",
        "print(A)\n",
        "print(A.shape)\n",
        "print(A.dtype)\n",
        "B = np.array([[3,0], [0,6]])\n",
        "print(A + B)\n",
        "print(A * B)\n",
        "print(A * 10)"
      ],
      "metadata": {
        "colab": {
          "base_uri": "https://localhost:8080/"
        },
        "id": "ToDVn_yikxwk",
        "outputId": "8755c5d2-6897-4925-b555-1816964ae71b"
      },
      "execution_count": 21,
      "outputs": [
        {
          "output_type": "stream",
          "name": "stdout",
          "text": [
            "[[1 2]\n",
            " [3 4]]\n",
            "(2, 2)\n",
            "int64\n",
            "[[ 4  2]\n",
            " [ 3 10]]\n",
            "[[ 3  0]\n",
            " [ 0 24]]\n",
            "[[10 20]\n",
            " [30 40]]\n"
          ]
        }
      ]
    },
    {
      "cell_type": "code",
      "source": [
        "a = np.array([[1, 2], [3, 4]])\n",
        "b = np.array([10, 20])\n",
        "print(a * b)"
      ],
      "metadata": {
        "colab": {
          "base_uri": "https://localhost:8080/"
        },
        "id": "v7ATC0Yxlqdb",
        "outputId": "e948728c-085d-4b85-d68e-2fcb7a1cbc58"
      },
      "execution_count": 22,
      "outputs": [
        {
          "output_type": "stream",
          "name": "stdout",
          "text": [
            "[[10 40]\n",
            " [30 80]]\n"
          ]
        }
      ]
    },
    {
      "cell_type": "code",
      "source": [
        "X = np.array([[51, 55], [14, 19], [0, 4]])\n",
        "print(X)\n",
        "print(X[0])\n",
        "print(X[0][1])\n",
        "for row in X:\n",
        "  print(row)\n",
        "\n",
        "X = X.flatten()#X를 1차원 배열로 변환(평탄화)\n",
        "print(X)\n",
        "print(X[np.array([0, 2, 4])]) #인덱스가 0,2,4인 원소 얻기\n",
        "print(X > 15) #특정 조건을 만족하는 원소 얻기\n",
        "print(X[X > 15])"
      ],
      "metadata": {
        "colab": {
          "base_uri": "https://localhost:8080/"
        },
        "id": "QJ5aRIAloOMU",
        "outputId": "24119153-14f3-4971-e77d-b0b25d428ade"
      },
      "execution_count": 35,
      "outputs": [
        {
          "output_type": "stream",
          "name": "stdout",
          "text": [
            "[[51 55]\n",
            " [14 19]\n",
            " [ 0  4]]\n",
            "[51 55]\n",
            "55\n",
            "[51 55]\n",
            "[14 19]\n",
            "[0 4]\n",
            "[51 55 14 19  0  4]\n",
            "[51 14  0]\n",
            "[ True  True False  True False False]\n",
            "[51 55 19]\n"
          ]
        }
      ]
    }
  ]
}