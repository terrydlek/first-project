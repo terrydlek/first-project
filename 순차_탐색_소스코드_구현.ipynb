{
  "nbformat": 4,
  "nbformat_minor": 0,
  "metadata": {
    "colab": {
      "provenance": [],
      "authorship_tag": "ABX9TyMdUSqBlC+6YYHHvsZ47fcD",
      "include_colab_link": true
    },
    "kernelspec": {
      "name": "python3",
      "display_name": "Python 3"
    },
    "language_info": {
      "name": "python"
    }
  },
  "cells": [
    {
      "cell_type": "markdown",
      "metadata": {
        "id": "view-in-github",
        "colab_type": "text"
      },
      "source": [
        "<a href=\"https://colab.research.google.com/github/terrydlek/first-project/blob/master/%EC%88%9C%EC%B0%A8_%ED%83%90%EC%83%89_%EC%86%8C%EC%8A%A4%EC%BD%94%EB%93%9C_%EA%B5%AC%ED%98%84.ipynb\" target=\"_parent\"><img src=\"https://colab.research.google.com/assets/colab-badge.svg\" alt=\"Open In Colab\"/></a>"
      ]
    },
    {
      "cell_type": "code",
      "execution_count": 6,
      "metadata": {
        "colab": {
          "base_uri": "https://localhost:8080/"
        },
        "id": "kU0n14KOvcC6",
        "outputId": "c6a57569-2e46-41d7-df8c-7b461f2089b9"
      },
      "outputs": [
        {
          "output_type": "stream",
          "name": "stdout",
          "text": [
            "생성할 원소 개수를 입력한 다음 한 칸 띄고 찾을 문자열을 입력하세요.\n",
            "5 jeuk\n",
            "앞서 적은 원소 개수만큼 문자열을 입력하세요. 구분은 띄어쓰기 한 칸으로 합니다.\n",
            "junho chanmin jaeuk jeuk sunuk\n",
            "4\n"
          ]
        }
      ],
      "source": [
        "#순차 탐색 소스코드 구현\n",
        "def sequential_search(n, target, array):\n",
        "  #각 원소를 하나씩 확인하며\n",
        "  for i in range(n):\n",
        "    #현재의 원소가 찾고자 하는 원소와 동일한 경우\n",
        "    if array[i] == target:\n",
        "      return i + 1  #현재의 위치 반환(인덱스는 0부터 시작하므로 1 더하기)\n",
        "print(\"생성할 원소 개수를 입력한 다음 한 칸 띄고 찾을 문자열을 입력하세요.\")\n",
        "input_data = input().split()\n",
        "n = int(input_data[0])  #원소의 개수\n",
        "target = input_data[1]  #찾고자 하는 문자열\n",
        "print(\"앞서 적은 원소 개수만큼 문자열을 입력하세요. 구분은 띄어쓰기 한 칸으로 합니다.\")\n",
        "array = input().split()\n",
        "#순차 탐색 수행 결과 출력\n",
        "print(sequential_search(n, target, array))"
      ]
    },
    {
      "cell_type": "code",
      "source": [
        "\n"
      ],
      "metadata": {
        "id": "BDQ8fKyGvdmk"
      },
      "execution_count": null,
      "outputs": []
    }
  ]
}