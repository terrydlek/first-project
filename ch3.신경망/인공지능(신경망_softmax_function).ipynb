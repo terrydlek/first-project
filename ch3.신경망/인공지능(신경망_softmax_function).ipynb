{
  "nbformat": 4,
  "nbformat_minor": 0,
  "metadata": {
    "colab": {
      "provenance": [],
      "authorship_tag": "ABX9TyNhnj923S3VuPkcXj75I6Pm",
      "include_colab_link": true
    },
    "kernelspec": {
      "name": "python3",
      "display_name": "Python 3"
    },
    "language_info": {
      "name": "python"
    }
  },
  "cells": [
    {
      "cell_type": "markdown",
      "metadata": {
        "id": "view-in-github",
        "colab_type": "text"
      },
      "source": [
        "<a href=\"https://colab.research.google.com/github/terrydlek/first-project/blob/master/%EC%9D%B8%EA%B3%B5%EC%A7%80%EB%8A%A5(%EC%8B%A0%EA%B2%BD%EB%A7%9D_softmax_function).ipynb\" target=\"_parent\"><img src=\"https://colab.research.google.com/assets/colab-badge.svg\" alt=\"Open In Colab\"/></a>"
      ]
    },
    {
      "cell_type": "code",
      "execution_count": 4,
      "metadata": {
        "colab": {
          "base_uri": "https://localhost:8080/"
        },
        "id": "V4iewAnExowi",
        "outputId": "727a743a-ad62-463e-ceec-7b755633b775"
      },
      "outputs": [
        {
          "output_type": "stream",
          "name": "stdout",
          "text": [
            "[ 1.34985881 18.17414537 54.59815003]\n",
            "74.1221542101633\n",
            "[0.01821127 0.24519181 0.73659691]\n"
          ]
        }
      ],
      "source": [
        "import numpy as np\n",
        "a = np.array([0.3, 2.9, 4.0])\n",
        "\n",
        "exp_a = np.exp(a)\n",
        "print(exp_a)\n",
        "\n",
        "sum_exp_a = np.sum(exp_a)\n",
        "print(sum_exp_a)\n",
        "\n",
        "y = exp_a / sum_exp_a\n",
        "print(y)"
      ]
    },
    {
      "cell_type": "code",
      "source": [
        "#softmax function 함수 구현\n",
        "def softmax(a):\n",
        "  exp_a = np.exp(a)\n",
        "  sum_exp_a = np.sum(exp_a)\n",
        "  y = exp_a / sum_exp_a\n",
        "  return y\n",
        "#but 위 함수는 오버플로 문제를 가지고 있음"
      ],
      "metadata": {
        "id": "CWjY7Ejh-nf8"
      },
      "execution_count": null,
      "outputs": []
    },
    {
      "cell_type": "code",
      "source": [
        "import numpy as np\n",
        "a = np.array([1010, 1000, 990]) #소프트맥스 함수의 계산\n",
        "print(np.exp(a) / np.sum(np.exp(a))) #제대로 계산되지 않음\n",
        "\n",
        "c = np.max(a) #c = 1010 (최댓값)\n",
        "print(a - c)\n",
        "print(np.exp(a - c) / np.sum(np.exp(a - c))) #입력 신호 중 최댓값을 빼주면 올바르게 계산할 수 있음"
      ],
      "metadata": {
        "colab": {
          "base_uri": "https://localhost:8080/"
        },
        "id": "R1uaxT-1Cod0",
        "outputId": "706309b1-6771-45a4-c8c6-bbe63c57b25c"
      },
      "execution_count": 7,
      "outputs": [
        {
          "output_type": "stream",
          "name": "stdout",
          "text": [
            "[nan nan nan]\n",
            "[  0 -10 -20]\n",
            "[9.99954600e-01 4.53978686e-05 2.06106005e-09]\n"
          ]
        },
        {
          "output_type": "stream",
          "name": "stderr",
          "text": [
            "/usr/local/lib/python3.7/dist-packages/ipykernel_launcher.py:3: RuntimeWarning: overflow encountered in exp\n",
            "  This is separate from the ipykernel package so we can avoid doing imports until\n",
            "/usr/local/lib/python3.7/dist-packages/ipykernel_launcher.py:3: RuntimeWarning: invalid value encountered in true_divide\n",
            "  This is separate from the ipykernel package so we can avoid doing imports until\n"
          ]
        }
      ]
    },
    {
      "cell_type": "code",
      "source": [
        "#오버플로 문제를 해결한 소프트맥스 함수 구현\n",
        "def softmax(a):\n",
        "  c = np.max(a)\n",
        "  exp_a = np.exp(a - c)\n",
        "  sum_exp_a = np.sum(exp_a)\n",
        "  y = exp_a / sum_exp_a\n",
        "  return y"
      ],
      "metadata": {
        "id": "iZSTL-1_DVLK"
      },
      "execution_count": 8,
      "outputs": []
    },
    {
      "cell_type": "code",
      "source": [
        "#softmax() 함수를 사용하면 신경망의 출력을 계산할 수 있음\n",
        "a = np.array([0.3, 2.9, 4.0])\n",
        "y = softmax(a)\n",
        "print(y) #소프트맥스 함수의 출력은 0에서 1.0 사이의 실수 (소프트맥스 함수의 중요한 성질)\n",
        "print(np.sum(y)) #출력의 총합은 1 (소프트맥스 함수의 중요한 성질) ==> 확률로 해석할 수 있음 ==> 문제를 통계적으로 대응할 수 있게 됨"
      ],
      "metadata": {
        "colab": {
          "base_uri": "https://localhost:8080/"
        },
        "id": "NJ9WeBLwEZdq",
        "outputId": "eb108ca1-3232-4275-fe0f-6b10e376d297"
      },
      "execution_count": 11,
      "outputs": [
        {
          "output_type": "stream",
          "name": "stdout",
          "text": [
            "[0.01821127 0.24519181 0.73659691]\n",
            "1.0\n"
          ]
        }
      ]
    },
    {
      "cell_type": "code",
      "source": [],
      "metadata": {
        "id": "mQXXSAqhEp7z"
      },
      "execution_count": null,
      "outputs": []
    }
  ]
}