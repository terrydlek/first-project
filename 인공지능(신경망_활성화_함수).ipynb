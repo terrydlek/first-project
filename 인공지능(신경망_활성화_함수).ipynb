{
  "nbformat": 4,
  "nbformat_minor": 0,
  "metadata": {
    "colab": {
      "provenance": [],
      "collapsed_sections": [],
      "authorship_tag": "ABX9TyMQS526Jd/J/NBNeJmbOPlA",
      "include_colab_link": true
    },
    "kernelspec": {
      "name": "python3",
      "display_name": "Python 3"
    },
    "language_info": {
      "name": "python"
    }
  },
  "cells": [
    {
      "cell_type": "markdown",
      "metadata": {
        "id": "view-in-github",
        "colab_type": "text"
      },
      "source": [
        "<a href=\"https://colab.research.google.com/github/terrydlek/first-project/blob/master/%EC%9D%B8%EA%B3%B5%EC%A7%80%EB%8A%A5(%EC%8B%A0%EA%B2%BD%EB%A7%9D_%ED%99%9C%EC%84%B1%ED%99%94_%ED%95%A8%EC%88%98).ipynb\" target=\"_parent\"><img src=\"https://colab.research.google.com/assets/colab-badge.svg\" alt=\"Open In Colab\"/></a>"
      ]
    },
    {
      "cell_type": "code",
      "execution_count": 18,
      "metadata": {
        "id": "ef0_pEGWFRij"
      },
      "outputs": [],
      "source": [
        "#계단 함수 구현\n",
        "def step_function1(x):\n",
        "  if x > 0:\n",
        "    return 1\n",
        "  else:\n",
        "    return 0\n",
        "#but 위 함수는 실수만 넣을 수 있음. 넘파이 배열을 인수로 넣을수는 없다.\n",
        "#넘파이 배열도 지원하도록 수정한 계단 함수 구현\n",
        "def step_function2(x):\n",
        "  y = x > 0\n",
        "  return y.astype(np.int)"
      ]
    },
    {
      "cell_type": "code",
      "source": [
        "'''import numpy as np\n",
        "x = np.array([-1.0, 1.0, 2.0])\n",
        "print(x)\n",
        "y = x > 0\n",
        "print(y) #배열의 원소 각각에 부등호 연산을 수행한 bool 배열이 생성됨\n",
        "\n",
        "y = y.astype(np.int64) #bool형을 int형으로 바꾸어줌\n",
        "print(y)'''"
      ],
      "metadata": {
        "colab": {
          "base_uri": "https://localhost:8080/",
          "height": 54
        },
        "id": "b4qwXxbsWQf9",
        "outputId": "fdb5270d-6e6f-4e74-88c6-f56ed08dfe90"
      },
      "execution_count": 19,
      "outputs": [
        {
          "output_type": "execute_result",
          "data": {
            "text/plain": [
              "'import numpy as np\\nx = np.array([-1.0, 1.0, 2.0])\\nprint(x)\\ny = x > 0\\nprint(y) #배열의 원소 각각에 부등호 연산을 수행한 bool 배열이 생성됨\\n\\ny = y.astype(np.int64) #bool형을 int형으로 바꾸어줌\\nprint(y)'"
            ],
            "application/vnd.google.colaboratory.intrinsic+json": {
              "type": "string"
            }
          },
          "metadata": {},
          "execution_count": 19
        }
      ]
    },
    {
      "cell_type": "code",
      "source": [
        "import numpy as np\n",
        "import matplotlib.pylab as plt\n",
        "\n",
        "def step_function3(x):\n",
        "  return np.array(x > 0, dtype = np.int64)\n",
        "\n",
        "x = np.arange(-5.0, 5.0, 0.1)\n",
        "y = step_function3(x)\n",
        "plt.plot(x, y)\n",
        "plt.ylim(-0.1, 1.1)\n",
        "plt.show()"
      ],
      "metadata": {
        "colab": {
          "base_uri": "https://localhost:8080/",
          "height": 265
        },
        "id": "lNZV2uB2WXPL",
        "outputId": "64b6ca42-9480-4b61-fe89-07826c8238fe"
      },
      "execution_count": 21,
      "outputs": [
        {
          "output_type": "display_data",
          "data": {
            "text/plain": [
              "<Figure size 432x288 with 1 Axes>"
            ],
            "image/png": "[encoded data removed]"
          },
          "metadata": {
            "needs_background": "light"
          }
        }
      ]
    },
    {
      "cell_type": "code",
      "source": [
        "#시그모이드 함수 구현\n",
        "import numpy as np\n",
        "def sigmoid(x):\n",
        "  return 1 / (1 + np.exp(-x))\n",
        "\n",
        "x = np.array([-1.0, 1.0, 2.0])\n",
        "print(sigmoid(x)) #변수 x가 넘파이 배열이어도 올바른 결과가 나옴"
      ],
      "metadata": {
        "colab": {
          "base_uri": "https://localhost:8080/"
        },
        "id": "TJ3CJX0QZCRr",
        "outputId": "201cc8fc-0b1d-4677-9b7d-4b4de025370f"
      },
      "execution_count": 24,
      "outputs": [
        {
          "output_type": "stream",
          "name": "stdout",
          "text": [
            "[0.26894142 0.73105858 0.88079708]\n"
          ]
        }
      ]
    },
    {
      "cell_type": "code",
      "source": [
        "t = np.array([1.0, 2.0, 3.0])\n",
        "print(1.0 + t)\n",
        "print(1.0 / t)"
      ],
      "metadata": {
        "colab": {
          "base_uri": "https://localhost:8080/"
        },
        "id": "ZblyhkmcbWjE",
        "outputId": "e5edcb8c-7c6d-4297-833b-39d4a1abb421"
      },
      "execution_count": 30,
      "outputs": [
        {
          "output_type": "stream",
          "name": "stdout",
          "text": [
            "[2. 3. 4.]\n",
            "[1.         0.5        0.33333333]\n"
          ]
        }
      ]
    },
    {
      "cell_type": "code",
      "source": [
        "x = np.arange(-5.0, 5.0, 0.1)\n",
        "y = sigmoid(x)\n",
        "plt.plot(x,y)\n",
        "plt.ylim(-0.1, 1.1) #y축 범위 지정\n",
        "plt.show()"
      ],
      "metadata": {
        "colab": {
          "base_uri": "https://localhost:8080/",
          "height": 265
        },
        "id": "LMtvDPx-b9lO",
        "outputId": "5b6c72d7-d983-4e19-b7c6-2ab30a3211df"
      },
      "execution_count": 34,
      "outputs": [
        {
          "output_type": "display_data",
          "data": {
            "text/plain": [
              "<Figure size 432x288 with 1 Axes>"
            ],
            "image/png": "[encoded data removed]"
          },
          "metadata": {
            "needs_background": "light"
          }
        }
      ]
    },
    {
      "cell_type": "code",
      "source": [
        "#시그모이드 함수와 계단함수 비교\n",
        "import numpy as np\n",
        "import matplotlib.pyplot as plt\n",
        "\n",
        "def step_func(x):\n",
        "  return np.array(x > 0, dtype = np.int64)\n",
        "\n",
        "def sigmoid_func(x):\n",
        "  return 1 / (1 + np.exp(-x))\n",
        "\n",
        "x = np.arange(-5.0, 5.0, 0.1)\n",
        "\n",
        "y1 = step_func(x)\n",
        "y2 = sigmoid_func(x)\n",
        "\n",
        "plt.plot(x, y1, linestyle = '--', label = \"step\")\n",
        "plt.plot(x, y2, label = \"sigmoid\")\n",
        "plt.xlabel(\"x\") #x축 이름\n",
        "plt.ylabel(\"y\") #y축 이름\n",
        "plt.title(\"step & sigmoid\") #제목\n",
        "plt.ylim(-0.1, 1.1)\n",
        "plt.legend(loc = \"upper left\")\n",
        "plt.show()"
      ],
      "metadata": {
        "colab": {
          "base_uri": "https://localhost:8080/",
          "height": 295
        },
        "id": "do9IRTK0cZs1",
        "outputId": "87b9fd13-c4ff-4ffc-b9ef-e8b89f32bfab"
      },
      "execution_count": 39,
      "outputs": [
        {
          "output_type": "display_data",
          "data": {
            "text/plain": [
              "<Figure size 432x288 with 1 Axes>"
            ],
            "image/png": "[encoded data removed]"
          },
          "metadata": {
            "needs_background": "light"
          }
        }
      ]
    },
    {
      "cell_type": "code",
      "source": [
        "#ReLU 함수: 입력이 0을 넘으면 그 입력을 그대로 출력, 0 이하이면 0을 출력하는 함수\n",
        "def relu(x):\n",
        "  return np.maximum(0, x)\n",
        "\n",
        "a = np.array([5, -3, 2, -5])\n",
        "print(relu(a))"
      ],
      "metadata": {
        "colab": {
          "base_uri": "https://localhost:8080/"
        },
        "id": "JaZgmJiHdxLZ",
        "outputId": "b5160961-f38d-4f70-de19-4a724d035ca6"
      },
      "execution_count": 40,
      "outputs": [
        {
          "output_type": "stream",
          "name": "stdout",
          "text": [
            "[5 0 2 0]\n"
          ]
        }
      ]
    },
    {
      "cell_type": "code",
      "source": [],
      "metadata": {
        "id": "14Xn8fCNggHl"
      },
      "execution_count": null,
      "outputs": []
    }
  ]
}