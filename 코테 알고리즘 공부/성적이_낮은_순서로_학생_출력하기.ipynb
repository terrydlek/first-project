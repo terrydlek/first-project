{
  "nbformat": 4,
  "nbformat_minor": 0,
  "metadata": {
    "colab": {
      "provenance": [],
      "authorship_tag": "ABX9TyMk/nzsjxjInmOgX5qjkS4C",
      "include_colab_link": true
    },
    "kernelspec": {
      "name": "python3",
      "display_name": "Python 3"
    },
    "language_info": {
      "name": "python"
    }
  },
  "cells": [
    {
      "cell_type": "markdown",
      "metadata": {
        "id": "view-in-github",
        "colab_type": "text"
      },
      "source": [
        "<a href=\"https://colab.research.google.com/github/terrydlek/first-project/blob/master/%EC%84%B1%EC%A0%81%EC%9D%B4_%EB%82%AE%EC%9D%80_%EC%88%9C%EC%84%9C%EB%A1%9C_%ED%95%99%EC%83%9D_%EC%B6%9C%EB%A0%A5%ED%95%98%EA%B8%B0.ipynb\" target=\"_parent\"><img src=\"https://colab.research.google.com/assets/colab-badge.svg\" alt=\"Open In Colab\"/></a>"
      ]
    },
    {
      "cell_type": "code",
      "execution_count": 6,
      "metadata": {
        "colab": {
          "base_uri": "https://localhost:8080/"
        },
        "id": "LbGhY78LiXQ1",
        "outputId": "4a00c255-206d-4b3a-e64c-897d557820cc"
      },
      "outputs": [
        {
          "output_type": "stream",
          "name": "stdout",
          "text": [
            "2\n",
            "홍길동 99\n",
            "이순신 77\n",
            "이순신 홍길동 "
          ]
        }
      ],
      "source": [
        "#n을 입력받기\n",
        "n = int(input())\n",
        "#n명의 학생 정보를 입력받아 리스트에 저장\n",
        "array = []\n",
        "for _ in range(n):\n",
        "  input_data = input().split()\n",
        "  #이름은 문자열 그대로, 점수는 정수형으로 변환하여 저장\n",
        "  array.append((input_data[0],input_data[1]))\n",
        "#키(key)를 이용하여, 점수를 기준으로 정렬\n",
        "array = sorted(array, key = lambda student:student[1])\n",
        "#정렬이 수행된 결과를 출력\n",
        "for student in array:\n",
        "  print(student[0], end=\" \")"
      ]
    }
  ]
}