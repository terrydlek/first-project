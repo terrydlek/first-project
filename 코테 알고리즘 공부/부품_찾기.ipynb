{
  "nbformat": 4,
  "nbformat_minor": 0,
  "metadata": {
    "colab": {
      "provenance": [],
      "authorship_tag": "ABX9TyOF48KexkyDZ4+yMAFhONh3",
      "include_colab_link": true
    },
    "kernelspec": {
      "name": "python3",
      "display_name": "Python 3"
    },
    "language_info": {
      "name": "python"
    }
  },
  "cells": [
    {
      "cell_type": "markdown",
      "metadata": {
        "id": "view-in-github",
        "colab_type": "text"
      },
      "source": [
        "<a href=\"https://colab.research.google.com/github/terrydlek/first-project/blob/master/%EB%B6%80%ED%92%88_%EC%B0%BE%EA%B8%B0.ipynb\" target=\"_parent\"><img src=\"https://colab.research.google.com/assets/colab-badge.svg\" alt=\"Open In Colab\"/></a>"
      ]
    },
    {
      "cell_type": "code",
      "execution_count": 12,
      "metadata": {
        "colab": {
          "base_uri": "https://localhost:8080/"
        },
        "id": "wMliL1E9PqZ8",
        "outputId": "7c0215e8-3d42-4ff1-eb12-c342dd12a346"
      },
      "outputs": [
        {
          "output_type": "stream",
          "name": "stdout",
          "text": [
            "5\n",
            "8 3 7 9 2\n",
            "3\n",
            "5 7 9\n",
            "no yes yes "
          ]
        }
      ],
      "source": [
        "#이진탐색\n",
        "'''def binary_search(array, target, start, end):\n",
        "  while start <= end:\n",
        "    mid = (start + end) // 2\n",
        "    if target == array[mid]:\n",
        "      return mid\n",
        "    elif target > array[mid]:\n",
        "      start = mid + 1\n",
        "    else:\n",
        "      end = mid - 1\n",
        "  return None\n",
        "\n",
        "n = int(input())\n",
        "item_index = list(map(int, input().split()))\n",
        "m = int(input())\n",
        "request_index = list(map(int, input().split()))\n",
        "\n",
        "item_index.sort\n",
        "request_index.sort\n",
        "\n",
        "for i in request_index:\n",
        "  result = binary_search(item_index, i, 0, n-1)\n",
        "  if result != None:\n",
        "    print(\"yes\", end= \" \")\n",
        "  else:\n",
        "    print(\"no\", end = \" \")'''\n",
        "\n",
        "#계수정렬\n",
        "'''n = int(input())\n",
        "array = [0] * 1000001\n",
        "\n",
        "for i in input().split():\n",
        "  array[int(i)] = 1\n",
        "\n",
        "m = int(input())\n",
        "x = list(map(int, input().split()))\n",
        "\n",
        "for i in x:\n",
        "  if array[i] == 1:\n",
        "    print(\"yes\", end = ' ')\n",
        "  else:\n",
        "    print(\"no\", end = \" \")'''\n",
        "\n",
        "#집합 자료형 이용\n",
        "n = int(input())\n",
        "array = set(map(int, input().split()))\n",
        "\n",
        "m = int(input())\n",
        "x = list(map(int, input().split()))\n",
        "\n",
        "for i in x:\n",
        "  if i in array:\n",
        "    print(\"yes\", end = ' ')\n",
        "  else:\n",
        "    print(\"no\", end = ' ')"
      ]
    },
    {
      "cell_type": "code",
      "source": [
        "\"\""
      ],
      "metadata": {
        "id": "vgVkjfCyP39W"
      },
      "execution_count": null,
      "outputs": []
    }
  ]
}