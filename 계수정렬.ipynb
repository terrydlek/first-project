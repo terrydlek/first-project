{
  "nbformat": 4,
  "nbformat_minor": 0,
  "metadata": {
    "colab": {
      "name": "계수정렬.ipynb",
      "provenance": [],
      "authorship_tag": "ABX9TyNBpDEYkjXdGWJ4PcBq1vEt",
      "include_colab_link": true
    },
    "kernelspec": {
      "name": "python3",
      "display_name": "Python 3"
    },
    "language_info": {
      "name": "python"
    }
  },
  "cells": [
    {
      "cell_type": "markdown",
      "metadata": {
        "id": "view-in-github",
        "colab_type": "text"
      },
      "source": [
        "<a href=\"https://colab.research.google.com/github/terrydlek/first-project/blob/master/%EA%B3%84%EC%88%98%EC%A0%95%EB%A0%AC.ipynb\" target=\"_parent\"><img src=\"https://colab.research.google.com/assets/colab-badge.svg\" alt=\"Open In Colab\"/></a>"
      ]
    },
    {
      "cell_type": "code",
      "execution_count": 11,
      "metadata": {
        "colab": {
          "base_uri": "https://localhost:8080/"
        },
        "id": "kTOZnsf_px0O",
        "outputId": "69c066f9-de89-47da-9819-53d1895ffb7d"
      },
      "outputs": [
        {
          "output_type": "stream",
          "name": "stdout",
          "text": [
            "0 0 1 1 2 2 3 4 5 5 6 7 8 9 9 "
          ]
        }
      ],
      "source": [
        "#모든 원소의 값이 0보다 크거나 같다고 가정\n",
        "array = [7, 5, 9, 0, 3, 1, 6, 2, 9, 1, 4, 8, 0, 5, 2]\n",
        "#모든 범위를 포함하는 리스트 선언(모든 값은 0으로 초기화)\n",
        "count = [0] * (max(array) + 1)\n",
        "\n",
        "for i in array:\n",
        "  count[i] += 1 #각 데이터에 해당하는 인덱스의 값 증가\n",
        "\n",
        "for i in range(len(count)): #리스트에 기록된 정렬 정보 확인\n",
        "  for j in range(count[i]):\n",
        "    print(i, end=\" \") #띄어쓰기를 구분으로 등장한 횟수만큼 인덱스 출력\n"
      ]
    },
    {
      "cell_type": "code",
      "source": [
        "li = []"
      ],
      "metadata": {
        "id": "w0wVe3U6qkw_"
      },
      "execution_count": null,
      "outputs": []
    }
  ]
}